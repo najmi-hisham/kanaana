{
 "cells": [
  {
   "cell_type": "markdown",
   "metadata": {},
   "source": [
    "## 1. Longest valid parentheses"
   ]
  },
  {
   "cell_type": "code",
   "execution_count": 1,
   "metadata": {},
   "outputs": [
    {
     "name": "stdout",
     "output_type": "stream",
     "text": [
      "4\n"
     ]
    }
   ],
   "source": [
    "def findMaxLen(string):\n",
    "    n = len(string)\n",
    " \n",
    "    # Create a stack and push -1\n",
    "    # as initial index to it.\n",
    "    stk = []\n",
    "    stk.append(-1)\n",
    " \n",
    "    # Initialize result\n",
    "    result = 0\n",
    " \n",
    "    # Traverse all characters of given string\n",
    "    for i in range(n):\n",
    " \n",
    "        # If opening bracket, push index of it\n",
    "        if string[i] == '(':\n",
    "            stk.append(i)\n",
    "         \n",
    "        # If closing bracket, i.e., str[i] = ')'\n",
    "        else:\n",
    " \n",
    "            # Pop the previous opening bracket's index\n",
    "            if len(stk) != 0:\n",
    "                stk.pop()\n",
    " \n",
    "            # Check if this length formed with base of\n",
    "            # current valid substring is more than max\n",
    "            # so far\n",
    "            if len(stk) != 0:\n",
    "                result = max(result,\n",
    "                            i - stk[-1])\n",
    " \n",
    "            # If stack is empty. push current index as\n",
    "            # base for next valid substring (if any)\n",
    "            else:\n",
    "                stk.append(i)\n",
    " \n",
    "    return result\n",
    " \n",
    " \n",
    "# Driver code\n",
    "string = \"((()()\"\n",
    " \n",
    "# Function call\n",
    "print (findMaxLen(string))"
   ]
  },
  {
   "cell_type": "code",
   "execution_count": 3,
   "metadata": {},
   "outputs": [
    {
     "name": "stdout",
     "output_type": "stream",
     "text": [
      "10\n"
     ]
    }
   ],
   "source": [
    "def findMaxLen(s):\n",
    "    if (len(s) <= 1):\n",
    "        return 0\n",
    " \n",
    "    # Initialize curMax to zero\n",
    "    curMax = 0\n",
    " \n",
    "    longest = [0] * (len(s))\n",
    " \n",
    "    # Iterate over the string starting\n",
    "    # from second index\n",
    "    for i in range(1, len(s)):\n",
    "        if ((s[i] == ')'\n",
    "             and i - longest[i - 1] - 1 >= 0\n",
    "             and s[i - longest[i - 1] - 1] == '(')):\n",
    "            longest[i] = longest[i - 1] + 2 #add 2 with prev longest \n",
    "            if (i - longest[i - 1] - 2 >= 0):\n",
    "                longest[i] += (longest[i - longest[i - 1] - 2]) # if there is new partner like (()) then(()) at last new ) it will check the previuse end and update longest\n",
    "            else:\n",
    "                longest[i] += 0\n",
    "            curMax = max(longest[i], curMax)\n",
    "           \n",
    "    return curMax\n",
    " \n",
    " \n",
    "# Driver Code\n",
    "if __name__ == '__main__':\n",
    "    Str = \"((()))(())\"\n",
    "     \n",
    "    # Function call\n",
    "    print(findMaxLen(Str))\n",
    " "
   ]
  },
  {
   "cell_type": "code",
   "execution_count": 8,
   "metadata": {},
   "outputs": [
    {
     "name": "stdout",
     "output_type": "stream",
     "text": [
      "right = 1\n",
      "left = 0\n",
      "We will reset left and right\n",
      "right = 0\n",
      "left = 0\n",
      "-----------------------------------------------------\n",
      "right = 1\n",
      "left = 0\n",
      "We will reset left and right\n",
      "right = 0\n",
      "left = 0\n",
      "-----------------------------------------------------\n",
      "right = 1\n",
      "left = 0\n",
      "We will reset left and right\n",
      "right = 0\n",
      "left = 0\n",
      "-----------------------------------------------------\n",
      "right = 0\n",
      "left = 1\n",
      "-----------------------------------------------------\n",
      "right = 0\n",
      "left = 2\n",
      "-----------------------------------------------------\n",
      "right = 0\n",
      "left = 3\n",
      "-----------------------------------------------------\n",
      "right = 0\n",
      "left = 1\n",
      "We will reset left and right\n",
      "right = 0\n",
      "left = 0\n",
      "-----------------------------------------------------\n",
      "right = 0\n",
      "left = 1\n",
      "We will reset left and right\n",
      "right = 0\n",
      "left = 0\n",
      "-----------------------------------------------------\n",
      "right = 0\n",
      "left = 1\n",
      "We will reset left and right\n",
      "right = 0\n",
      "left = 0\n",
      "-----------------------------------------------------\n",
      "right = 1\n",
      "left = 0\n",
      "-----------------------------------------------------\n",
      "right = 2\n",
      "left = 0\n",
      "-----------------------------------------------------\n",
      "right = 3\n",
      "left = 0\n",
      "-----------------------------------------------------\n",
      "0\n"
     ]
    }
   ],
   "source": [
    "def solve(s, n):\n",
    " \n",
    "    # Variables for left and right counter.\n",
    "    # maxlength to store the maximum length found so far\n",
    "    left = 0\n",
    "    right = 0\n",
    "    maxlength = 0\n",
    " \n",
    "    # Iterating the string from left to right\n",
    "    for i in range(n):\n",
    " \n",
    "        # If \"(\" is encountered,\n",
    "        # then left counter is incremented\n",
    "        # else right counter is incremented\n",
    "        if (s[i] == '('):\n",
    "            left += 1\n",
    "        else:\n",
    "            right += 1\n",
    "        print(f\"right = {right}\\nleft = {left}\")\n",
    "        # Whenever left is equal to right, it signifies\n",
    "        # that the subsequence is valid and\n",
    "        if (left == right):\n",
    "            maxlength = max(maxlength, 2 * right)\n",
    "            print(f\"left is equal right so maxlength={maxlength}\")\n",
    " \n",
    "        # Resetting the counters when the subsequence\n",
    "        # becomes invalid\n",
    "        elif (right > left):\n",
    "            left = right = 0\n",
    "            print(f\"We will reset left and right\")\n",
    "            print(f\"right = {right}\\nleft = {left}\")\n",
    "        print(\"-----------------------------------------------------\")\n",
    " \n",
    "    left = right = 0\n",
    " \n",
    "    # Iterating the string from right to left\n",
    "    for i in range(n - 1, -1, -1):\n",
    "\n",
    "        if (s[i] == '('):\n",
    "            left += 1\n",
    "        else:\n",
    "            right += 1\n",
    "        print(f\"right = {right}\\nleft = {left}\")\n",
    " \n",
    "        if (left == right):\n",
    "            maxlength = max(maxlength, 2 * left)\n",
    "            maxlength = max(maxlength, 2 * right)\n",
    "            print(f\"left is equal right so maxlength={maxlength}\")\n",
    "\n",
    "        elif (left > right):\n",
    "            left = right = 0\n",
    "            print(f\"We will reset left and right\")\n",
    "            print(f\"right = {right}\\nleft = {left}\")\n",
    "        print(\"-----------------------------------------------------\")\n",
    "    return maxlength\n",
    " \n",
    " \n",
    "# Driver code\n",
    "# Function call\n",
    "str = \")))(((\"\n",
    "print(solve(str,len(str)))"
   ]
  },
  {
   "cell_type": "markdown",
   "metadata": {},
   "source": [
    "## 2. House of Robber"
   ]
  },
  {
   "cell_type": "code",
   "execution_count": null,
   "metadata": {},
   "outputs": [],
   "source": [
    "nums =[10,19,3,4,7,6,17]\n",
    "\n",
    "rob1, rob2 = 0,0\n",
    "\n",
    "where = []\n",
    "\n",
    "for i,n in enumerate(nums):\n",
    "    print(f\"in house {i}, there is {n} money\")\n",
    "    steal = max(n+rob1, rob2) #steal which one is higher \n",
    "    if n+rob1 > rob2:\n",
    "        print(f\"So, from {nums}, I have steal {n} and {rob1}\")\n",
    "    else:\n",
    "        print(f\"So, from {nums}, I have steal {rob2}\")\n",
    "    rob1,rob2 = rob2,max(n+rob1, rob2) # keep what we rob previous in one step\n",
    "    print(f\"r1 is {rob1} and r2 is {rob2}\")\n",
    "    print(f\"The total steal now is {steal}\")\n",
    "    print(\"-----------------------------------------------\")\n",
    "\n",
    "print(rob2)"
   ]
  },
  {
   "cell_type": "markdown",
   "metadata": {},
   "source": [
    "## Smallest missing positive integer"
   ]
  },
  {
   "cell_type": "code",
   "execution_count": 16,
   "metadata": {},
   "outputs": [
    {
     "name": "stdout",
     "output_type": "stream",
     "text": [
      "Original list : [4, 3, 2, 5, 7, 8]\n",
      "In iteration 0\n",
      "Swap 4 with 5\n",
      "Updated list : [5, 3, 2, 4, 7, 8]\n",
      "Swap 5 with 7\n",
      "Updated list : [7, 3, 2, 4, 5, 8]\n",
      "Stop swap \n",
      "New list: [7, 3, 2, 4, 5, 8]\n",
      "------------------------------------------------------------\n",
      "In iteration 1\n",
      "Swap 3 with 2\n",
      "Updated list : [7, 2, 3, 4, 5, 8]\n",
      "Stop swap \n",
      "New list: [7, 2, 3, 4, 5, 8]\n",
      "------------------------------------------------------------\n",
      "In iteration 2\n",
      "Stop swap \n",
      "New list: [7, 2, 3, 4, 5, 8]\n",
      "------------------------------------------------------------\n",
      "In iteration 3\n",
      "Stop swap \n",
      "New list: [7, 2, 3, 4, 5, 8]\n",
      "------------------------------------------------------------\n",
      "In iteration 4\n",
      "Stop swap \n",
      "New list: [7, 2, 3, 4, 5, 8]\n",
      "------------------------------------------------------------\n",
      "In iteration 5\n",
      "Stop swap \n",
      "New list: [7, 2, 3, 4, 5, 8]\n",
      "------------------------------------------------------------\n",
      "1\n"
     ]
    }
   ],
   "source": [
    "def Missing(nums):\n",
    "    n = len(nums)\n",
    "    print(f\"Original list : {nums}\")\n",
    "\n",
    "    for i in range(n):\n",
    "        print(f\"In iteration {i}\")\n",
    "        while 0<nums[i]<=n and nums[nums[i]-1] != nums[i]:\n",
    "            print(f\"Swap {nums[i]} with {nums[nums[i]-1]}\")\n",
    "            nums[nums[i]-1],nums[i] = nums[i],nums[nums[i]-1]\n",
    "            print(f\"Updated list : {nums}\")\n",
    "        print(f\"Stop swap \")\n",
    "        print(f\"New list: {nums}\")\n",
    "        print(\"------------------------------------------------------------\")\n",
    "\n",
    "    for i in range(n):\n",
    "        if nums[i]!=i+1:\n",
    "            return i+1\n",
    "        \n",
    "    return n+1\n",
    "\n",
    "nums = [4,3,2,5,7,8]\n",
    "\n",
    "print(Missing(nums))\n"
   ]
  },
  {
   "cell_type": "markdown",
   "metadata": {},
   "source": [
    "##  4. Water Trap Solution"
   ]
  },
  {
   "cell_type": "code",
   "execution_count": 31,
   "metadata": {},
   "outputs": [
    {
     "name": "stdout",
     "output_type": "stream",
     "text": [
      "7\n"
     ]
    }
   ],
   "source": [
    "def waterTrap(height):\n",
    "    if not height: return 0\n",
    "    rightMax = []\n",
    "    leftMax = []  # Initialize leftMax with the first element of numbers\n",
    "    minValues = []\n",
    "\n",
    "    for i in range(len(height)):\n",
    "        if i == 0:\n",
    "            leftMax.append(height[i])\n",
    "        else:\n",
    "            max_val = max(height[:i])  # Find the maximum value to the left of the current index\n",
    "            leftMax.append(max_val)\n",
    "\n",
    "\n",
    "    for i in range(len(height)-1, -1, -1):\n",
    "        if i == len(height)-1:\n",
    "            rightMax.insert(0, height[i])  # Insert at the beginning for reverse order\n",
    "        else:\n",
    "            max_val = max(height[i+1:])  # Find the maximum value to the right of the current index\n",
    "            rightMax.insert(0, max_val)  # Insert at the beginning for reverse order\n",
    "\n",
    "    for i in range(len(height)):\n",
    "        min_val = min(leftMax[i], rightMax[i])\n",
    "        minValues.append(min_val)\n",
    "\n",
    "    water = [max(0, height[i] - minValues[i]) for i in range(len(height))]\n",
    "\n",
    "    water = sum(water)\n",
    "    return water\n",
    "\n",
    " \n",
    "numbers = [0, 2, 5, 4, 7, 2, 6, 7]\n",
    "print(waterTrap(numbers))\n",
    "\n"
   ]
  },
  {
   "cell_type": "markdown",
   "metadata": {},
   "source": [
    "# 5. Water Trap"
   ]
  },
  {
   "cell_type": "code",
   "execution_count": 27,
   "metadata": {},
   "outputs": [
    {
     "name": "stdout",
     "output_type": "stream",
     "text": [
      "7\n"
     ]
    }
   ],
   "source": [
    "def trap(height):\n",
    "    if not height: return 0\n",
    "\n",
    "    left,right = 0,len(height)-1\n",
    "    leftMax, rightMax = height[left],height[right]\n",
    "    water=0\n",
    "\n",
    "    while left < right:\n",
    "        if leftMax < rightMax:\n",
    "            left+=1\n",
    "            leftMax = max(leftMax,height[left])\n",
    "            water+=leftMax-height[left]\n",
    "        else:\n",
    "            right-=1\n",
    "            rightMax = max(rightMax,height[right])\n",
    "            water+=rightMax-height[right]\n",
    "\n",
    "    return water\n",
    "\n",
    "height = [0, 2, 5, 4, 7, 2, 6, 7]\n",
    "\n",
    "print(trap(height))\n"
   ]
  },
  {
   "cell_type": "markdown",
   "metadata": {},
   "source": [
    "## 6. Median Two sorted Array"
   ]
  },
  {
   "cell_type": "code",
   "execution_count": 34,
   "metadata": {},
   "outputs": [
    {
     "name": "stdout",
     "output_type": "stream",
     "text": [
      "11\n"
     ]
    }
   ],
   "source": [
    "from typing import List\n",
    "\n",
    "def findMedianSortedArrays(nums1: List[int], nums2: List[int]) -> float:\n",
    "    # Choose the smaller array to minimize the scope of the binary search\n",
    "    if len(nums1) < len(nums2):\n",
    "        a, b = nums1, nums2\n",
    "    else:\n",
    "        a, b = nums2, nums1\n",
    "\n",
    "    # Initialization\n",
    "    l, r, half = 0, len(a) - 1, (len(a) + len(b)) // 2\n",
    "\n",
    "    # Binary search loop\n",
    "    while True:\n",
    "        i = (l + r) // 2  # Partition position in 'a'\n",
    "        j = half - i - 2  # Complementary partition position in 'b'\n",
    "\n",
    "        # Handling edge cases with '-inf' and 'inf'\n",
    "        a_current = a[i] if i >= 0 else float('-inf')\n",
    "        a_right = a[i + 1] if i + 1 < len(a) else float('inf')\n",
    "        b_current = b[j] if j >= 0 else float('-inf')\n",
    "        b_right = b[j + 1] if j + 1 < len(b) else float('inf')\n",
    "\n",
    "        # Check if correct partition is found\n",
    "        if a_current <= b_right and b_current <= a_right:\n",
    "            # Handle odd combined length\n",
    "            if (len(a) + len(b)) % 2:\n",
    "                return min(a_right, b_right)\n",
    "            # Handle even combined length\n",
    "            else:\n",
    "                return (max(a_current, b_current) + min(a_right, b_right)) / 2\n",
    "        elif a_current > b_right:\n",
    "            r = i - 1  # Move partition in 'a' left\n",
    "        else:\n",
    "            l = i + 1  # Move partition in 'a' right\n",
    "\n",
    "# Example usage:\n",
    "nums1 = [1, 3, 8, 9, 15]\n",
    "nums2 = [7, 11, 18, 19, 21, 25]\n",
    "print(findMedianSortedArrays(nums1, nums2))  "
   ]
  },
  {
   "cell_type": "markdown",
   "metadata": {},
   "source": [
    "# 7. Word Ladder"
   ]
  },
  {
   "cell_type": "code",
   "execution_count": 66,
   "metadata": {},
   "outputs": [
    {
     "name": "stdout",
     "output_type": "stream",
     "text": [
      "So my queue is deque([['eat', 1]])\n",
      "iteration 0\n",
      " I got hat\n",
      "queue: deque([['hat', 2]])\n",
      "---------------------------------------------------\n",
      "iteration 1\n",
      "---------------------------------------------------\n",
      "iteration 2\n",
      "---------------------------------------------------\n",
      "So my queue is deque([['hat', 2]])\n",
      "iteration 0\n",
      "---------------------------------------------------\n",
      "iteration 1\n",
      " I got hit\n",
      "queue: deque([['hit', 3]])\n",
      " I got hot\n",
      "queue: deque([['hit', 3], ['hot', 3]])\n",
      "---------------------------------------------------\n",
      "iteration 2\n",
      "---------------------------------------------------\n",
      "So my queue is deque([['hit', 3], ['hot', 3]])\n",
      "iteration 0\n",
      "---------------------------------------------------\n",
      "iteration 1\n",
      "---------------------------------------------------\n",
      "iteration 2\n",
      "---------------------------------------------------\n",
      "So my queue is deque([['hot', 3]])\n"
     ]
    },
    {
     "data": {
      "text/plain": [
       "3"
      ]
     },
     "execution_count": 66,
     "metadata": {},
     "output_type": "execute_result"
    }
   ],
   "source": [
    "import collections\n",
    "\n",
    "def ladderLength(beginWord, endWord, wordList):\n",
    "    wordList = set(wordList)\n",
    "    queue = collections.deque([[beginWord, 1]])\n",
    "    while queue:\n",
    "        print(f\"So my queue is {queue}\")\n",
    "        word, length = queue.popleft()\n",
    "        if word == endWord:\n",
    "            return length\n",
    "        for i in range(len(word)):\n",
    "            print(f\"iteration {i}\")\n",
    "            for c in 'abcdefghijklmnopqrstuvwxyz':\n",
    "                next_word = word[:i] + c + word[i+1:]\n",
    "                if next_word in wordList:\n",
    "                    print(f\" I got {next_word}\")\n",
    "                    wordList.remove(next_word)\n",
    "                    queue.append([next_word, length + 1])\n",
    "                    print(f\"queue: {queue}\")\n",
    "            print(\"---------------------------------------------------\")\n",
    "\n",
    "    return 0\n",
    "\n",
    "\n",
    "beginWord = \"eat\"\n",
    "endWord = \"hot\"\n",
    "wordList = [\"hot\",\"dot\",\"hit\",\"hat\",\"dog\",\"lot\",\"log\",\"cog\"]\n",
    "\n",
    "ladderLength(beginWord, endWord, wordList)"
   ]
  },
  {
   "cell_type": "code",
   "execution_count": 59,
   "metadata": {},
   "outputs": [
    {
     "name": "stdout",
     "output_type": "stream",
     "text": [
      "xat\n",
      "cxt\n",
      "cax\n"
     ]
    }
   ],
   "source": [
    "word = \"cat\"\n",
    "\n",
    "for i in range(len(word)):\n",
    "    next_word = word[:i] + \"x\" + word[i+1:]\n",
    "    print(next_word)"
   ]
  },
  {
   "cell_type": "markdown",
   "metadata": {},
   "source": [
    "# 8. Candy"
   ]
  },
  {
   "cell_type": "code",
   "execution_count": 77,
   "metadata": {},
   "outputs": [
    {
     "name": "stdout",
     "output_type": "stream",
     "text": [
      "6\n"
     ]
    }
   ],
   "source": [
    "def candy(ratings):\n",
    "    n = len(ratings)\n",
    "    candies = [1] * n\n",
    "    \n",
    "    # Traverse from left to right, assign more candies to higher rating children\n",
    "    for i in range(1, n):\n",
    "        if ratings[i] > ratings[i-1]:\n",
    "            candies[i] = candies[i-1] + 1\n",
    "    \n",
    "    # Traverse from right to left, make sure higher rating children have more candies\n",
    "    for i in range(n-2, -1, -1):\n",
    "        if ratings[i] > ratings[i+1]:\n",
    "            candies[i] = max(candies[i], candies[i+1] + 1)\n",
    "    \n",
    "    return sum(candies)\n",
    "\n",
    "# Example usage:\n",
    "ratings = [1, 3, 3, 4]\n",
    "print(candy(ratings))  # Output: 5"
   ]
  },
  {
   "cell_type": "markdown",
   "metadata": {},
   "source": [
    "# 9. Text Justification"
   ]
  },
  {
   "cell_type": "code",
   "execution_count": 32,
   "metadata": {},
   "outputs": [
    {
     "name": "stdout",
     "output_type": "stream",
     "text": [
      "We will check for word:This\n",
      "Our width use is 4\n",
      "New line length:4\n",
      "Line:['This'] with 0 space region needed\n",
      "---------------------------------------------------\n",
      "We will check for word:is\n",
      "Our width use is 7\n",
      "New line length:6\n",
      "Line:['This', 'is'] with 1 space region needed\n",
      "---------------------------------------------------\n",
      "We will check for word:example\n",
      "Our width use is 15\n",
      "New line length:13\n",
      "Line:['This', 'is', 'example'] with 2 space region needed\n",
      "---------------------------------------------------\n",
      "We will check for word:of\n",
      "Our width use is 18\n",
      "Full justify(in else)\n",
      "result: This  is example\n",
      "-----------------------------------------------------------------\n",
      "We will check for word:my\n",
      "Our width use is 5\n",
      "New line length:4\n",
      "Line:['of', 'my'] with 1 space region needed\n",
      "---------------------------------------------------\n",
      "We will check for word:real\n",
      "Our width use is 10\n",
      "New line length:8\n",
      "Line:['of', 'my', 'real'] with 2 space region needed\n",
      "---------------------------------------------------\n",
      "We will check for word:love\n",
      "Our width use is 15\n",
      "New line length:12\n",
      "Line:['of', 'my', 'real', 'love'] with 3 space region needed\n",
      "---------------------------------------------------\n",
      "We will check for word:achievements\n",
      "Our width use is 28\n",
      "Full justify(in else)\n",
      "result: of  my real love\n",
      "-----------------------------------------------------------------\n",
      "We will check for word:long\n",
      "Our width use is 17\n",
      "Full justify for one word because it too long\n",
      "result: achievements    \n",
      "-----------------------------------------------------------\n",
      "We will check for word:la\n",
      "Our width use is 7\n",
      "New line length:6\n",
      "Line:['long', 'la'] with 1 space region needed\n",
      "---------------------------------------------------\n",
      "\n",
      "So this is the result\n",
      "This  is example\n",
      "of  my real love\n",
      "achievements    \n",
      "long la         \n"
     ]
    }
   ],
   "source": [
    "def fullJustify(words, maxWidth):\n",
    "    words = words.split()\n",
    "    result = []\n",
    "    line = []\n",
    "    line_length = 0\n",
    "    just=0\n",
    "    for word in words:\n",
    "        print(f\"We will check for word:{word}\")\n",
    "        print(f\"Our width use is {line_length + len(word) + len(line)}\")\n",
    "        if line_length + len(word) + len(line) <= maxWidth:\n",
    "            line.append(word) # to update how many word we have check and count for space each word\n",
    "            line_length += len(word) # add word length into line_length\n",
    "            print(f\"New line length:{line_length}\\nLine:{line} with {len(line)-1} space region needed\")\n",
    "            print(\"---------------------------------------------------\")\n",
    "        else:\n",
    "            if len(line) == 1: # this for a long word that it only fit one word for the maxwidth\n",
    "                result.append(line[0] + ' ' * (maxWidth - len(line[0])))\n",
    "                print(f\"Full justify for one word because it too long\")\n",
    "                print(f\"result: {result[just]}\")\n",
    "                just+=1\n",
    "                print(\"-----------------------------------------------------------\")\n",
    "            else:\n",
    "                spaces = maxWidth - line_length # find spaces left\n",
    "                gaps = len(line) - 1  #this was to find how many space region needed. EX: \"this-is-me\", 3 space region\n",
    "                spaces_between_words = spaces // gaps #find the suitable space number for every space region\n",
    "                extra_spaces = spaces % gaps # sometime there should be extra space after we have give space to each region\n",
    "                justified_line = ''\n",
    "                for i in range(len(line) - 1): #give space to each region\n",
    "                    justified_line += line[i] + ' ' * spaces_between_words #The word in line with space\n",
    "                    if extra_spaces > 0:\n",
    "                        justified_line += ' ' #give maximum one extra space, Noted: extra space is the remainder of spaces / gaps, so maximum each region only get one\n",
    "                        extra_spaces -= 1 #update new value of extra space\n",
    "                justified_line += line[-1] #add for last elements\n",
    "                result.append(justified_line) # all of it will put inside result list\n",
    "                print(f\"Full justify(in else)\")\n",
    "                print(f\"result: {result[just]}\")\n",
    "                just+=1\n",
    "                print(\"-----------------------------------------------------------------\")\n",
    "            line = [word]\n",
    "            line_length = len(word)\n",
    "    result.append(' '.join(line) + ' ' * (maxWidth - line_length - len(line) + 1))\n",
    "    return result\n",
    "\n",
    "# Example usage:\n",
    "words = \"This is example of my real love achievements long la \"\n",
    "\n",
    "maxWidth = 16\n",
    "\n",
    "justify = fullJustify(words, maxWidth)\n",
    "print(f\"\\nSo this is the result\")\n",
    "for i in justify:\n",
    "    print(i)\n"
   ]
  },
  {
   "cell_type": "markdown",
   "metadata": {},
   "source": [
    "# 10. Basic Calculator"
   ]
  },
  {
   "cell_type": "code",
   "execution_count": 35,
   "metadata": {},
   "outputs": [
    {
     "name": "stdout",
     "output_type": "stream",
     "text": [
      "35\n"
     ]
    }
   ],
   "source": [
    "def calculate(s: str) -> int:\n",
    "    stack = []\n",
    "    num = 0\n",
    "    sign = 1\n",
    "    result = 0\n",
    "\n",
    "    for char in s:\n",
    "        if char.isdigit():\n",
    "            num = num * 10 + int(char)\n",
    "        elif char == '+':\n",
    "            result += sign * num\n",
    "            num = 0\n",
    "            sign = 1\n",
    "        elif char == '-':\n",
    "            result += sign * num\n",
    "            num = 0\n",
    "            sign = -1\n",
    "        elif char == '(':\n",
    "            stack.append(result)\n",
    "            stack.append(sign)\n",
    "            result = 0\n",
    "            sign = 1\n",
    "        elif char == ')':\n",
    "            result += sign * num\n",
    "            num = 0\n",
    "            result *= stack.pop()  # pop sign\n",
    "            result += stack.pop()  # pop result before parentheses\n",
    "    result += sign * num\n",
    "    return result\n",
    "\n",
    "# Test cases\n",
    "print(calculate(\"40-(2+3)\"))       \n",
    "\n"
   ]
  },
  {
   "cell_type": "markdown",
   "metadata": {},
   "source": [
    "# 11. Number of Squareful Arrays"
   ]
  },
  {
   "cell_type": "code",
   "execution_count": 37,
   "metadata": {},
   "outputs": [
    {
     "name": "stdout",
     "output_type": "stream",
     "text": [
      "2\n"
     ]
    }
   ],
   "source": [
    "import math\n",
    "\n",
    "def is_square(num):\n",
    "    sqrt = int(math.sqrt(num))\n",
    "    return sqrt * sqrt == num\n",
    "\n",
    "def backtrack(nums, permutation, visited, result):\n",
    "    if len(permutation) == len(nums):\n",
    "        result.append(list(permutation))\n",
    "        return\n",
    "    \n",
    "    for i in range(len(nums)):\n",
    "        if visited[i] or (i > 0 and nums[i] == nums[i-1] and not visited[i-1]):\n",
    "            continue\n",
    "        if not permutation or is_square(permutation[-1] + nums[i]):\n",
    "            permutation.append(nums[i])\n",
    "            visited[i] = True\n",
    "            backtrack(nums, permutation, visited, result)\n",
    "            visited[i] = False\n",
    "            permutation.pop()\n",
    "\n",
    "def numSquarefulPerms(nums):\n",
    "    nums.sort()\n",
    "    result = []\n",
    "    visited = [False] * len(nums)\n",
    "    backtrack(nums, [], visited, result)\n",
    "    return len(result)\n",
    "\n",
    "# Test cases\n",
    "print(numSquarefulPerms([12,4,5]))  \n"
   ]
  },
  {
   "cell_type": "markdown",
   "metadata": {},
   "source": [
    "# 12. Longest Duplicate Substring\n"
   ]
  },
  {
   "cell_type": "code",
   "execution_count": 2,
   "metadata": {},
   "outputs": [
    {
     "name": "stdout",
     "output_type": "stream",
     "text": [
      "tbat\n",
      "\n"
     ]
    }
   ],
   "source": [
    "def longest_dup_substring(s):\n",
    "    def search_lcp(n):\n",
    "        \"\"\"\n",
    "        Use binary search to find the length of the longest common prefix (LCP)\n",
    "        for substrings of length n in the string s.\n",
    "        \"\"\"\n",
    "        seen = set()\n",
    "        base = 26  # size of the alphabet\n",
    "        mod = 2**63 - 1  # prime number for hashing\n",
    "        rolling_hash = 0\n",
    "        base_n = pow(base, n, mod)\n",
    "        \n",
    "        for i in range(n):\n",
    "            rolling_hash = (rolling_hash * base + ord(s[i])) % mod\n",
    "        \n",
    "        seen.add(rolling_hash)\n",
    "        for i in range(1, len(s) - n + 1):\n",
    "            rolling_hash = (rolling_hash * base - ord(s[i - 1]) * base_n + ord(s[i + n - 1])) % mod\n",
    "            if rolling_hash in seen:\n",
    "                return i\n",
    "            seen.add(rolling_hash)\n",
    "        return -1\n",
    "    \n",
    "    # Binary search for the length of the duplicated substring\n",
    "    low, high = 0, len(s) - 1\n",
    "    dup_len = 0\n",
    "    while low <= high:\n",
    "        mid = low + (high - low) // 2\n",
    "        if search_lcp(mid) != -1:\n",
    "            dup_len = mid\n",
    "            low = mid + 1\n",
    "        else:\n",
    "            high = mid - 1\n",
    "    \n",
    "    # Use the starting index of the first occurrence of the duplicated substring\n",
    "    start = search_lcp(dup_len)\n",
    "    return s[start:start + dup_len] if start != -1 else \"\"\n",
    "\n",
    "# Test cases\n",
    "print(longest_dup_substring(\"tbatbat\"))  # Output: \"ana\"\n",
    "print(longest_dup_substring(\"abcd\"))    # Output: \"\"\n"
   ]
  },
  {
   "cell_type": "markdown",
   "metadata": {},
   "source": [
    "# 13. Frog Jump"
   ]
  },
  {
   "cell_type": "code",
   "execution_count": 16,
   "metadata": {},
   "outputs": [
    {
     "name": "stdout",
     "output_type": "stream",
     "text": [
      "In position 0\n",
      "k is 0\n",
      "I will check value jump (-1)\n",
      "I will check value jump (0)\n",
      "I will check value jump (1)\n",
      "Frog can jump with 1 position\n",
      "dp={0: {0}, 1: {1}, 3: set(), 4: set(), 5: set(), 6: set(), 7: set()}\n",
      "-------------------------------------------\n",
      "In position 1\n",
      "k is 1\n",
      "I will check value jump (0)\n",
      "I will check value jump (1)\n",
      "I will check value jump (2)\n",
      "Frog can jump with 2 position\n",
      "dp={0: {0}, 1: {1}, 3: {2}, 4: set(), 5: set(), 6: set(), 7: set()}\n",
      "-------------------------------------------\n",
      "In position 3\n",
      "k is 2\n",
      "I will check value jump (1)\n",
      "Frog can jump with 1 position\n",
      "dp={0: {0}, 1: {1}, 3: {2}, 4: {1}, 5: set(), 6: set(), 7: set()}\n",
      "I will check value jump (2)\n",
      "Frog can jump with 2 position\n",
      "dp={0: {0}, 1: {1}, 3: {2}, 4: {1}, 5: {2}, 6: set(), 7: set()}\n",
      "I will check value jump (3)\n",
      "Frog can jump with 3 position\n",
      "dp={0: {0}, 1: {1}, 3: {2}, 4: {1}, 5: {2}, 6: {3}, 7: set()}\n",
      "-------------------------------------------\n",
      "In position 4\n",
      "k is 1\n",
      "I will check value jump (0)\n",
      "I will check value jump (1)\n",
      "Frog can jump with 1 position\n",
      "dp={0: {0}, 1: {1}, 3: {2}, 4: {1}, 5: {1, 2}, 6: {3}, 7: set()}\n",
      "I will check value jump (2)\n",
      "Frog can jump with 2 position\n",
      "dp={0: {0}, 1: {1}, 3: {2}, 4: {1}, 5: {1, 2}, 6: {2, 3}, 7: set()}\n",
      "-------------------------------------------\n",
      "In position 5\n",
      "k is 1\n",
      "I will check value jump (0)\n",
      "I will check value jump (1)\n",
      "Frog can jump with 1 position\n",
      "dp={0: {0}, 1: {1}, 3: {2}, 4: {1}, 5: {1, 2}, 6: {1, 2, 3}, 7: set()}\n",
      "I will check value jump (2)\n",
      "Frog can jump with 2 position\n",
      "dp={0: {0}, 1: {1}, 3: {2}, 4: {1}, 5: {1, 2}, 6: {1, 2, 3}, 7: {2}}\n",
      "k is 2\n",
      "I will check value jump (1)\n",
      "Frog can jump with 1 position\n",
      "dp={0: {0}, 1: {1}, 3: {2}, 4: {1}, 5: {1, 2}, 6: {1, 2, 3}, 7: {2}}\n",
      "I will check value jump (2)\n",
      "Frog can jump with 2 position\n",
      "dp={0: {0}, 1: {1}, 3: {2}, 4: {1}, 5: {1, 2}, 6: {1, 2, 3}, 7: {2}}\n",
      "I will check value jump (3)\n",
      "-------------------------------------------\n",
      "In position 6\n",
      "k is 1\n",
      "I will check value jump (0)\n",
      "I will check value jump (1)\n",
      "Frog can jump with 1 position\n",
      "dp={0: {0}, 1: {1}, 3: {2}, 4: {1}, 5: {1, 2}, 6: {1, 2, 3}, 7: {1, 2}}\n",
      "I will check value jump (2)\n",
      "k is 2\n",
      "I will check value jump (1)\n",
      "Frog can jump with 1 position\n",
      "dp={0: {0}, 1: {1}, 3: {2}, 4: {1}, 5: {1, 2}, 6: {1, 2, 3}, 7: {1, 2}}\n",
      "I will check value jump (2)\n",
      "I will check value jump (3)\n",
      "k is 3\n",
      "I will check value jump (2)\n",
      "I will check value jump (3)\n",
      "I will check value jump (4)\n",
      "-------------------------------------------\n",
      "In position 7\n",
      "k is 1\n",
      "I will check value jump (0)\n",
      "I will check value jump (1)\n",
      "I will check value jump (2)\n",
      "k is 2\n",
      "I will check value jump (1)\n",
      "I will check value jump (2)\n",
      "I will check value jump (3)\n",
      "-------------------------------------------\n",
      "==================================================\n",
      "At position 0: {0}\n",
      "At position 1: {1}\n",
      "At position 3: {2}\n",
      "At position 4: {1}\n",
      "At position 5: {1, 2}\n",
      "At position 6: {1, 2, 3}\n",
      "At position 7: {1, 2}\n",
      "True\n"
     ]
    }
   ],
   "source": [
    "def canCross(stones):\n",
    "    dp = {}\n",
    "    for stone in stones:\n",
    "        dp[stone] = set()\n",
    "\n",
    "    dp[0].add(0)  # Initial position\n",
    "\n",
    "    for stone in stones:\n",
    "        print(f\"In position {stone}\")\n",
    "        for k in dp[stone]:\n",
    "            print(f\"k is {k}\")\n",
    "            for jump in range(k - 1, k + 2):\n",
    "                print(f\"I will check value jump ({jump})\")\n",
    "                if jump > 0 and stone + jump in dp:\n",
    "                    dp[stone + jump].add(jump)\n",
    "                    print(f\"Frog can jump with {jump} position\")\n",
    "                    print(f\"dp={dp}\")\n",
    "        print(\"-------------------------------------------\")\n",
    "    print(\"==================================================\")\n",
    "    for position, reachable_stones in dp.items():\n",
    "        print(f\"At position {position}: {reachable_stones}\")\n",
    "\n",
    "    return len(dp[stones[-1]]) > 0\n",
    "\n",
    "stones = [0, 1, 3,4,5,6,7]\n",
    "print(canCross(stones))"
   ]
  },
  {
   "cell_type": "code",
   "execution_count": 6,
   "metadata": {},
   "outputs": [
    {
     "name": "stdout",
     "output_type": "stream",
     "text": [
      "letter counts = Counter({'d': 3, 'a': 2, 'o': 2, 'c': 1, 'g': 1})\n",
      "word_counts = [Counter({'d': 1, 'o': 1, 'g': 1}), Counter({'c': 1, 'a': 1, 't': 1}), Counter({'d': 2, 'a': 1}), Counter({'o': 2, 'g': 1, 'd': 1})]\n",
      "For word dog\n",
      "======================================================\n",
      "For word cat\n",
      "======================================================\n",
      "For word dad\n",
      "======================================================\n",
      "For word good\n",
      "======================================================\n"
     ]
    }
   ],
   "source": [
    "from collections import Counter\n",
    "\n",
    "words = [\"dog\",\"cat\",\"dad\",\"good\"]\n",
    "letters = [\"a\",\"a\",\"c\",\"d\",\"d\",\"d\",\"g\",\"o\",\"o\"]\n",
    "\n",
    "letter_count = Counter(letters)\n",
    "word_counts = [Counter(word) for word in words]\n",
    "\n",
    "print(f\"letter counts = {letter_count}\")\n",
    "print(f\"word_counts = {word_counts}\")\n",
    "\n",
    "for i in range(len(words)):\n",
    "    print(f\"For word {words[i]}\")\n",
    "    \n",
    "\n",
    "    print(\"======================================================\")"
   ]
  },
  {
   "cell_type": "markdown",
   "metadata": {},
   "source": [
    "# 15. Maximum Score Words Formed by Letters"
   ]
  },
  {
   "cell_type": "code",
   "execution_count": 43,
   "metadata": {},
   "outputs": [
    {
     "name": "stdout",
     "output_type": "stream",
     "text": [
      "Word Scores: {'leetcode': 8}\n",
      "In index 0 with len(word) = 1\n",
      "In index 1 with len(word) = 1\n",
      "In index 1 with len(word) = 1\n",
      "Maximum score: 8\n"
     ]
    }
   ],
   "source": [
    "from collections import Counter\n",
    "\n",
    "def maxScoreWords(words, letters, score):\n",
    "    # Calculate frequency of letters\n",
    "    letter_freq = Counter(letters)\n",
    "\n",
    "    # Convert letters to scores dictionary\n",
    "    letter_scores = {chr(ord('a') + i): score[i] for i in range(26)}\n",
    "    #print(f\"Letter Scores: {letter_scores}\")\n",
    "\n",
    "    # Convert words to score dictionary\n",
    "    word_scores = {word: sum(letter_scores[char] for char in word) for word in words}\n",
    "    print(f\"Word Scores: {word_scores}\")\n",
    "\n",
    "    # Define a recursive function to generate all subsets\n",
    "    def generate_subsets(index, current_freq):\n",
    "        print(f\"In index {index} with len(word) = {len(words)}\")\n",
    "        if index == len(words):\n",
    "            return 0\n",
    "\n",
    "        # Calculate score if we choose the current word\n",
    "        word = words[index]\n",
    "        word_freq = Counter(word)\n",
    "    \n",
    "        if all(word_freq[char] <= current_freq[char] for char in word):\n",
    "            score_if_choose = word_scores[word] + generate_subsets(index + 1, current_freq - word_freq)\n",
    "        else:\n",
    "            score_if_choose = 0\n",
    "\n",
    "        # Calculate score if we skip the current word\n",
    "        score_if_skip = generate_subsets(index + 1, current_freq)\n",
    "\n",
    "        # Return maximum score among choosing and skipping the current word\n",
    "        return max(score_if_choose, score_if_skip)\n",
    "    \n",
    "\n",
    "    # Call the recursive function with initial parameters\n",
    "    return generate_subsets(0, letter_freq)\n",
    "\n",
    "\n",
    "# Example usage:\n",
    "words = [\"leetcode\"]\n",
    "letters = [\"l\",\"e\",\"e\",\"e\",\"t\",\"c\",\"o\",\"d\"]\n",
    "score = [0,0,1,1,1,0,0,0,0,0,0,1,0,0,1,0,0,0,0,1,0,0,0,0,0,0]\n",
    "print(\"Maximum score:\", maxScoreWords(words, letters, score))  # Output: 23\n"
   ]
  },
  {
   "cell_type": "markdown",
   "metadata": {},
   "source": [
    "# 16. K inverse pair"
   ]
  },
  {
   "cell_type": "code",
   "execution_count": 16,
   "metadata": {},
   "outputs": [
    {
     "name": "stdout",
     "output_type": "stream",
     "text": [
      "1000000007\n",
      "i=1 j=1\n",
      "[[1, 0], [1, 1], [0, 0], [0, 0]]\n",
      "found\n",
      "[[1, 0], [1, 0], [0, 0], [0, 0]]\n",
      "======================================================================\n",
      "i=2 j=1\n",
      "[[1, 0], [1, 0], [1, 1], [0, 0]]\n",
      "======================================================================\n",
      "i=3 j=1\n",
      "[[1, 0], [1, 0], [1, 1], [1, 2]]\n",
      "======================================================================\n",
      "2\n"
     ]
    }
   ],
   "source": [
    "def kInversePairs(n, k):\n",
    "    MOD = 10**9 + 7\n",
    "    print(MOD)\n",
    "    dp = [[0] * (k + 1) for _ in range(n + 1)]\n",
    "    dp[0][0] = 1\n",
    "\n",
    "    for i in range(1, n + 1):\n",
    "        dp[i][0] = 1\n",
    "        for j in range(1, k + 1):\n",
    "            print(f\"i={i} j={j}\")\n",
    "            dp[i][j] = (dp[i][j - 1] + dp[i - 1][j]) % MOD\n",
    "            print(dp)\n",
    "            if j >= i:\n",
    "                print(\"found\")\n",
    "                dp[i][j] = (dp[i][j] - dp[i - 1][j - i] + MOD) % MOD\n",
    "                print(dp)\n",
    "            print(\"======================================================================\")\n",
    "\n",
    "    return dp[n][k]\n",
    "\n",
    "# Example usage\n",
    "n = 3\n",
    "k = 1\n",
    "print(kInversePairs(n, k))  # Output should be 2\n"
   ]
  },
  {
   "cell_type": "markdown",
   "metadata": {},
   "source": [
    "# 17. Kth Smallest in multiplication table\n",
    "\n"
   ]
  },
  {
   "cell_type": "code",
   "execution_count": 74,
   "metadata": {},
   "outputs": [
    {
     "name": "stdout",
     "output_type": "stream",
     "text": [
      "mid = 8 | left = 1 | right = 16 | k = 11\n",
      "Count = 12\n",
      "We will update right to 8\n",
      "============================================\n",
      "mid = 4 | left = 1 | right = 8 | k = 11\n",
      "Count = 8\n",
      "We will update left to 5\n",
      "============================================\n",
      "mid = 6 | left = 5 | right = 8 | k = 11\n",
      "Count = 10\n",
      "We will update left to 7\n",
      "============================================\n",
      "mid = 7 | left = 7 | right = 8 | k = 11\n",
      "Count = 10\n",
      "We will update left to 8\n",
      "============================================\n",
      "8\n"
     ]
    }
   ],
   "source": [
    "def count_less_equal(matrix, target):\n",
    "    \"\"\"\n",
    "    Count the number of elements less than or equal to the target in the matrix.\n",
    "    \"\"\"\n",
    "    count = 0\n",
    "    for row in matrix:\n",
    "        count += sum(1 for num in row if num <= target)\n",
    "    return count\n",
    "\n",
    "def findKthNumber(m, n, k):\n",
    "    \"\"\"\n",
    "    Find the kth smallest number in the multiplication table of size m x n.\n",
    "    \"\"\"\n",
    "    left, right = 1, m * n\n",
    "    \n",
    "    while left < right:\n",
    "        mid = left + (right - left) // 2\n",
    "        print(f\"mid = {mid} | left = {left} | right = {right} | k = {k}\")\n",
    "        print(f\"Count = {count_less_equal([[num * i for i in range(1, n+1)] for num in range(1, m+1)], mid)}\")\n",
    "        if count_less_equal([[num * i for i in range(1, n+1)] for num in range(1, m+1)], mid) < k: # check if the count is less than k=3\n",
    "            left = mid + 1\n",
    "            print(f\"We will update left to {left}\")\n",
    "        else:\n",
    "            right = mid\n",
    "            print(f\"We will update right to {right}\")\n",
    "        print(\"============================================\")\n",
    "    \n",
    "    return left\n",
    "\n",
    "# Example usage:\n",
    "m = 4\n",
    "n = 4\n",
    "k = 11\n",
    "print(findKthNumber(m, n, k))  # Output: 3\n"
   ]
  },
  {
   "cell_type": "code",
   "execution_count": 71,
   "metadata": {},
   "outputs": [
    {
     "name": "stdout",
     "output_type": "stream",
     "text": [
      "3\n"
     ]
    }
   ],
   "source": [
    "def findKthNumber(m, n, k):\n",
    "    mul = [[num * i for i in range(1, n+1)] for num in range(1, m+1)]\n",
    "    rec = [0] * (m * n + 1)\n",
    "    rec[0] = 0\n",
    "    ans = 0\n",
    "    for i in range(1, m*n + 1):\n",
    "        count = 0\n",
    "        for row in mul:\n",
    "            count += sum(1 for num in row if num <= i)\n",
    "        rec[i] = count\n",
    "        if rec[i] >= k:\n",
    "            ans = i\n",
    "            break\n",
    "\n",
    "    return ans  \n",
    "\n",
    "m = 4\n",
    "n = 4\n",
    "k = 5\n",
    "print(findKthNumber(m, n, k))\n"
   ]
  },
  {
   "cell_type": "markdown",
   "metadata": {},
   "source": [
    "# 18. Strange Printer"
   ]
  },
  {
   "cell_type": "code",
   "execution_count": 76,
   "metadata": {},
   "outputs": [
    {
     "name": "stdout",
     "output_type": "stream",
     "text": [
      "2\n",
      "2\n",
      "4\n"
     ]
    }
   ],
   "source": [
    "def strangePrinter(s):\n",
    "    # Base case: if the string is empty, return 0\n",
    "    if not s:\n",
    "        return 0\n",
    "    \n",
    "    # Initialize dp array to store the minimum number of turns needed\n",
    "    dp = [[0] * len(s) for _ in range(len(s))]\n",
    "    \n",
    "    # Fill the dp array using dynamic programming\n",
    "    for l in range(len(s) - 1, -1, -1):\n",
    "        for r in range(l, len(s)):\n",
    "            # Base case: if l == r, the substring contains only one character\n",
    "            # So, it requires only 1 turn to print it\n",
    "            if l == r:\n",
    "                dp[l][r] = 1\n",
    "            else:\n",
    "                # Initialize dp[l][r] with dp[l][r-1] + 1 because printing s[r] requires\n",
    "                # at least one turn, and we can reuse the turns used to print s[l:r]\n",
    "                dp[l][r] = dp[l][r-1] + 1\n",
    "                \n",
    "                # Check if we can optimize by combining adjacent characters\n",
    "                for k in range(l, r):\n",
    "                    if s[k] == s[r]:\n",
    "                        dp[l][r] = min(dp[l][r], dp[l][k] + dp[k+1][r-1])\n",
    "    \n",
    "    # The result is stored in dp[0][len(s)-1]\n",
    "    return dp[0][len(s)-1]\n",
    "\n",
    "# Example usage:\n",
    "s1 = \"aaabbb\"\n",
    "print(strangePrinter(s1))  # Output: 2\n",
    "\n",
    "s2 = \"aba\"\n",
    "print(strangePrinter(s2))  # Output: 2\n",
    "\n",
    "s3 = \"aaannnbbbaaannn\"\n",
    "print(strangePrinter(s3))  \n"
   ]
  },
  {
   "cell_type": "markdown",
   "metadata": {},
   "source": [
    "# 19. Erect The Fence"
   ]
  },
  {
   "cell_type": "code",
   "execution_count": 81,
   "metadata": {},
   "outputs": [
    {
     "name": "stdout",
     "output_type": "stream",
     "text": [
      "[[1, 2], [2, 2], [4, 2], [4, 4]]\n"
     ]
    }
   ],
   "source": [
    "def orientation(p, q, r):\n",
    "    \"\"\"\n",
    "    Function to find the orientation of triplet (p, q, r).\n",
    "    Returns:\n",
    "        0 if p, q, and r are colinear\n",
    "        1 if clockwise\n",
    "        2 if counterclockwise\n",
    "    \"\"\"\n",
    "    val = (q[1] - p[1]) * (r[0] - q[0]) - (q[0] - p[0]) * (r[1] - q[1])\n",
    "    if val == 0:\n",
    "        return 0  # colinear\n",
    "    return 1 if val > 0 else 2  # clockwise or counterclockwise\n",
    "\n",
    "\n",
    "def convex_hull(points):\n",
    "    n = len(points)\n",
    "    if n < 3:\n",
    "        return []\n",
    "\n",
    "    # Find the leftmost point\n",
    "    leftmost = min(points, key=lambda x: x[0])\n",
    "\n",
    "    hull = []\n",
    "    p = points.index(leftmost)\n",
    "    q = 0\n",
    "    while True:\n",
    "        hull.append(points[p])\n",
    "        q = (p + 1) % n\n",
    "        for r in range(n):\n",
    "            if orientation(points[p], points[r], points[q]) == 2:\n",
    "                q = r\n",
    "        p = q\n",
    "        if p == 0:\n",
    "            break\n",
    "\n",
    "    return hull\n",
    "\n",
    "\n",
    "# Example usage:\n",
    "points = [[1,2],[2,2],[4,2],[4,4],[3,3]]\n",
    "print(convex_hull(points))  \n"
   ]
  },
  {
   "cell_type": "markdown",
   "metadata": {},
   "source": [
    "# 20. Burst Balloon"
   ]
  },
  {
   "cell_type": "code",
   "execution_count": 25,
   "metadata": {},
   "outputs": [
    {
     "name": "stdout",
     "output_type": "stream",
     "text": [
      "1354\n",
      "[0, 0, 3, 30, 159, 537, 1315, 1351, 1354]\n",
      "[0, 0, 0, 15, 135, 510, 1285, 1345, 1351]\n",
      "[0, 0, 0, 0, 40, 405, 1170, 1230, 1235]\n",
      "[0, 0, 0, 0, 0, 360, 1120, 1220, 1230]\n",
      "[0, 0, 0, 0, 0, 0, 720, 880, 896]\n",
      "[0, 0, 0, 0, 0, 0, 0, 180, 198]\n",
      "[0, 0, 0, 0, 0, 0, 0, 0, 20]\n",
      "[0, 0, 0, 0, 0, 0, 0, 0, 0]\n",
      "[0, 0, 0, 0, 0, 0, 0, 0, 0]\n"
     ]
    }
   ],
   "source": [
    "def maxCoins(nums):\n",
    "    nums = [1] + nums + [1]\n",
    "    n = len(nums)\n",
    "    dp = [[0] * n for _ in range(n)]\n",
    "\n",
    "    for length in range(2, n): # 2,3,4,5 from  [1,3, 1, 5, 8, 1]\n",
    "        for left in range(0, n - length):\n",
    "            right = left + length\n",
    "            for k in range(left + 1, right):\n",
    "                dp[left][right] = max(dp[left][right], \n",
    "                                      nums[left] * nums[k] * nums[right] + dp[left][k] + dp[k][right])\n",
    "\n",
    "    return dp[0][n - 1],dp\n",
    "\n",
    "# Example usage:\n",
    "nums = [3, 1, 5, 8, 9, 10, 2]\n",
    "\n",
    "l,k = maxCoins(nums)\n",
    "print(l)  # Output should be 167\n",
    "\n",
    "for i in k:\n",
    "    print(i)\n"
   ]
  },
  {
   "cell_type": "code",
   "execution_count": 17,
   "metadata": {},
   "outputs": [
    {
     "name": "stdout",
     "output_type": "stream",
     "text": [
      "at length: 2\n",
      "n-length:4\n",
      "left = 0 | right = 2\n",
      "k=1\n",
      "dp[0][2]\n",
      "----------------------\n",
      "left = 1 | right = 3\n",
      "k=2\n",
      "dp[1][3]\n",
      "----------------------\n",
      "left = 2 | right = 4\n",
      "k=3\n",
      "dp[2][4]\n",
      "----------------------\n",
      "left = 3 | right = 5\n",
      "k=4\n",
      "dp[3][5]\n",
      "----------------------\n",
      "=============================\n",
      "at length: 3\n",
      "n-length:3\n",
      "left = 0 | right = 3\n",
      "k=1\n",
      "dp[0][3]\n",
      "k=2\n",
      "dp[0][3]\n",
      "----------------------\n",
      "left = 1 | right = 4\n",
      "k=2\n",
      "dp[1][4]\n",
      "k=3\n",
      "dp[1][4]\n",
      "----------------------\n",
      "left = 2 | right = 5\n",
      "k=3\n",
      "dp[2][5]\n",
      "k=4\n",
      "dp[2][5]\n",
      "----------------------\n",
      "=============================\n",
      "at length: 4\n",
      "n-length:2\n",
      "left = 0 | right = 4\n",
      "k=1\n",
      "dp[0][4]\n",
      "k=2\n",
      "dp[0][4]\n",
      "k=3\n",
      "dp[0][4]\n",
      "----------------------\n",
      "left = 1 | right = 5\n",
      "k=2\n",
      "dp[1][5]\n",
      "k=3\n",
      "dp[1][5]\n",
      "k=4\n",
      "dp[1][5]\n",
      "----------------------\n",
      "=============================\n",
      "at length: 5\n",
      "n-length:1\n",
      "left = 0 | right = 5\n",
      "k=1\n",
      "dp[0][5]\n",
      "k=2\n",
      "dp[0][5]\n",
      "k=3\n",
      "dp[0][5]\n",
      "k=4\n",
      "dp[0][5]\n",
      "----------------------\n",
      "=============================\n"
     ]
    }
   ],
   "source": [
    "nums = [3, 1, 5, 8]\n",
    "nums = [1] + nums + [1]\n",
    "n = len(nums)\n",
    "dp = [[0] * n for _ in range(n)]\n",
    "\n",
    "for length in range(2, n):\n",
    "    print(f\"at length: {length}\")\n",
    "    print(f\"n-length:{n-length}\")\n",
    "    for left in range(0, n - length):\n",
    "        right = left + length\n",
    "        print(f\"left = {left} | right = {right}\")\n",
    "        for k in range(left + 1, right):\n",
    "            print(f\"k={k}\")\n",
    "            print(f\"dp[{left}][{right}]\")\n",
    "        print(\"----------------------\")\n",
    "\n",
    "    print(\"=============================\")\n",
    "    #0,1,2,3\n",
    "    #0,1,2\n",
    "    #0,1\n",
    "    #0"
   ]
  },
  {
   "cell_type": "markdown",
   "metadata": {},
   "source": [
    "# 21. Number of Atoms"
   ]
  },
  {
   "cell_type": "code",
   "execution_count": 42,
   "metadata": {},
   "outputs": [
    {
     "name": "stdout",
     "output_type": "stream",
     "text": [
      "For ( part\n",
      "We notice there is open bracket. Now lets check for next part which is H\n",
      "========================================================================\n",
      "For H part\n",
      "For O part\n",
      "For ) part\n",
      "We notice there is closed bracke. Now lets check for the next part after closed bracket : 2\n",
      "========================================================================\n",
      "2 is a digit\n",
      "Count for 2 is 2\n"
     ]
    },
    {
     "ename": "IndexError",
     "evalue": "string index out of range",
     "output_type": "error",
     "traceback": [
      "\u001b[1;31m---------------------------------------------------------------------------\u001b[0m",
      "\u001b[1;31mIndexError\u001b[0m                                Traceback (most recent call last)",
      "Cell \u001b[1;32mIn[42], line 57\u001b[0m\n\u001b[0;32m     55\u001b[0m \u001b[38;5;66;03m# Example usage:\u001b[39;00m\n\u001b[0;32m     56\u001b[0m formula \u001b[38;5;241m=\u001b[39m \u001b[38;5;124m\"\u001b[39m\u001b[38;5;124m(H2O)2\u001b[39m\u001b[38;5;124m\"\u001b[39m\n\u001b[1;32m---> 57\u001b[0m \u001b[38;5;28mprint\u001b[39m(\u001b[43mcountOfAtoms\u001b[49m\u001b[43m(\u001b[49m\u001b[43mformula\u001b[49m\u001b[43m)\u001b[49m)  \u001b[38;5;66;03m# Output: \"K4N2O14S4\"\u001b[39;00m\n",
      "Cell \u001b[1;32mIn[42], line 24\u001b[0m, in \u001b[0;36mcountOfAtoms\u001b[1;34m(formula)\u001b[0m\n\u001b[0;32m     22\u001b[0m         \u001b[38;5;28mprint\u001b[39m(\u001b[38;5;124mf\u001b[39m\u001b[38;5;124m\"\u001b[39m\u001b[38;5;124mCount for \u001b[39m\u001b[38;5;132;01m{\u001b[39;00mformula[i]\u001b[38;5;132;01m}\u001b[39;00m\u001b[38;5;124m is \u001b[39m\u001b[38;5;132;01m{\u001b[39;00mcount\u001b[38;5;132;01m}\u001b[39;00m\u001b[38;5;124m\"\u001b[39m)\n\u001b[0;32m     23\u001b[0m         i \u001b[38;5;241m+\u001b[39m\u001b[38;5;241m=\u001b[39m \u001b[38;5;241m1\u001b[39m\n\u001b[1;32m---> 24\u001b[0m         \u001b[38;5;28mprint\u001b[39m(\u001b[38;5;124mf\u001b[39m\u001b[38;5;124m\"\u001b[39m\u001b[38;5;124mNow lets go to \u001b[39m\u001b[38;5;132;01m{\u001b[39;00m\u001b[43mformula\u001b[49m\u001b[43m[\u001b[49m\u001b[43mi\u001b[49m\u001b[43m]\u001b[49m\u001b[38;5;132;01m}\u001b[39;00m\u001b[38;5;124m\"\u001b[39m)\n\u001b[0;32m     25\u001b[0m         \u001b[38;5;28mprint\u001b[39m(\u001b[38;5;124m\"\u001b[39m\u001b[38;5;124m========================================================================\u001b[39m\u001b[38;5;124m\"\u001b[39m)\n\u001b[0;32m     26\u001b[0m temp \u001b[38;5;241m=\u001b[39m stack\u001b[38;5;241m.\u001b[39mpop()\n",
      "\u001b[1;31mIndexError\u001b[0m: string index out of range"
     ]
    }
   ],
   "source": [
    "def countOfAtoms(formula):\n",
    "    stack = [{}]\n",
    "    i = 0\n",
    "    n = len(formula)\n",
    "    while i < n:\n",
    "        print(f\"For {formula[i]} part\")\n",
    "        if formula[i] == '(':\n",
    "            stack.append({})\n",
    "            i += 1\n",
    "            print(f\"We notice there is open bracket. Now lets check for next part which is {formula[i]}\")\n",
    "            print(\"========================================================================\")\n",
    "        elif formula[i] == ')':\n",
    "            count = 1\n",
    "            i += 1\n",
    "            print(f\"We notice there is closed bracke. Now lets check for the next part after closed bracket : {formula[i]}\")\n",
    "            print(\"========================================================================\")\n",
    "            if i < n and formula[i].isdigit():\n",
    "                print(f\"{formula[i]} is a digit\")\n",
    "                count = 0\n",
    "                while i < n and formula[i].isdigit():\n",
    "                    count = count * 10 + int(formula[i])\n",
    "                    print(f\"Count for {formula[i]} is {count}\")\n",
    "                    i += 1\n",
    "                    print(f\"Now lets go to {formula[i]}\")\n",
    "                    print(\"========================================================================\")\n",
    "            temp = stack.pop()\n",
    "            for atom, atom_count in temp.items():\n",
    "                if atom in stack[-1]:\n",
    "                    stack[-1][atom] += count * atom_count\n",
    "                else:\n",
    "                    stack[-1][atom] = count * atom_count\n",
    "        else:\n",
    "            atom_start = i\n",
    "            i += 1\n",
    "            while i < n and formula[i].islower():\n",
    "                i += 1\n",
    "            atom = formula[atom_start:i]\n",
    "            count = 1\n",
    "            if i < n and formula[i].isdigit():\n",
    "                count = 0\n",
    "                while i < n and formula[i].isdigit():\n",
    "                    count = count * 10 + int(formula[i])\n",
    "                    i += 1\n",
    "            if atom in stack[-1]:\n",
    "                stack[-1][atom] += count\n",
    "            else:\n",
    "                stack[-1][atom] = count\n",
    "    result = \"\"\n",
    "    for atom, atom_count in sorted(stack[-1].items()):\n",
    "        result += atom\n",
    "        if atom_count > 1:\n",
    "            result += str(atom_count)\n",
    "    return result\n",
    "\n",
    "# Example usage:\n",
    "formula = \"(H2O)2\"\n",
    "print(countOfAtoms(formula))  # Output: \"K4N2O14S4\"\n"
   ]
  },
  {
   "cell_type": "markdown",
   "metadata": {},
   "source": [
    "# 22. Max Sliding window"
   ]
  },
  {
   "cell_type": "code",
   "execution_count": 32,
   "metadata": {},
   "outputs": [
    {
     "name": "stdout",
     "output_type": "stream",
     "text": [
      "[4, 15, 15, 8, 9, 10, 13]\n"
     ]
    }
   ],
   "source": [
    "from collections import deque\n",
    "\n",
    "def max_sliding_window(nums, k):\n",
    "    if not nums:\n",
    "        return []\n",
    "\n",
    "    if k == 1:\n",
    "        return nums\n",
    "\n",
    "    # Function to clean deque by removing elements that are out of window range\n",
    "    def clean_deque(index):\n",
    "        if deq and deq[0] == index - k:\n",
    "            deq.popleft()\n",
    "\n",
    "        while deq and nums[index] > nums[deq[-1]]:\n",
    "            deq.pop()\n",
    "\n",
    "    deq = deque()\n",
    "    result = []\n",
    "\n",
    "    # Initialize deque with the first k elements and find maximum\n",
    "    for i in range(k):\n",
    "        clean_deque(i)\n",
    "        deq.append(i)\n",
    "\n",
    "    result.append(nums[deq[0]])\n",
    "\n",
    "    # Slide the window\n",
    "    for i in range(k, len(nums)):\n",
    "        clean_deque(i)\n",
    "        deq.append(i)\n",
    "        result.append(nums[deq[0]])\n",
    "\n",
    "    return result\n",
    "\n",
    "# Example usage:\n",
    "nums = [1,4,15,6,8,9,10,13]\n",
    "k = 2\n",
    "print(max_sliding_window(nums, k)) \n"
   ]
  },
  {
   "cell_type": "markdown",
   "metadata": {},
   "source": [
    "# 23. K-th Smallest in Lexicographical Order"
   ]
  },
  {
   "cell_type": "code",
   "execution_count": 33,
   "metadata": {},
   "outputs": [
    {
     "name": "stdout",
     "output_type": "stream",
     "text": [
      "13\n"
     ]
    }
   ],
   "source": [
    "def findKthNumber(n, k):\n",
    "    curr = 1\n",
    "    k -= 1  # Adjust k to start from 0\n",
    "\n",
    "    while k > 0:\n",
    "        steps = 0\n",
    "        interval = [curr, curr + 1]\n",
    "        \n",
    "        # Calculate the number of steps needed to reach the next integer in the lexicographical order\n",
    "        while interval[0] <= n:\n",
    "            steps += min(n + 1, interval[1]) - interval[0]  # Count the numbers in the current interval\n",
    "            interval = [10 * interval[0], 10 * interval[1]]  # Move to the next interval\n",
    "        \n",
    "        # Decide whether to move horizontally or vertically in the tree structure\n",
    "        if k >= steps:\n",
    "            curr += 1  # Move horizontally (to the right)\n",
    "            k -= steps\n",
    "        else:\n",
    "            curr *= 10  # Move vertically (downward)\n",
    "            k -= 1\n",
    "\n",
    "    return curr\n",
    "\n",
    "# Example usage:\n",
    "n = 15\n",
    "k = 5\n",
    "print(findKthNumber(n, k))  # Output: 13\n"
   ]
  },
  {
   "cell_type": "markdown",
   "metadata": {},
   "source": [
    "# 24. Sum of Distance Tree"
   ]
  },
  {
   "cell_type": "code",
   "execution_count": 1,
   "metadata": {},
   "outputs": [
    {
     "name": "stdout",
     "output_type": "stream",
     "text": [
      "[14, 9, 8, 13, 13, 13, 14]\n"
     ]
    }
   ],
   "source": [
    "from collections import defaultdict\n",
    "\n",
    "def sumOfDistancesInTree(N, edges):\n",
    "    graph = defaultdict(list)\n",
    "    for u, v in edges:\n",
    "        graph[u].append(v)\n",
    "        graph[v].append(u)\n",
    "\n",
    "    count = [1] * N  # count[i] = number of nodes in the subtree rooted at i\n",
    "    ans = [0] * N    # ans[i] = sum of distances from node i to all other nodes\n",
    "\n",
    "    def dfs(node, parent):\n",
    "        for child in graph[node]:\n",
    "            if child != parent:\n",
    "                dfs(child, node)\n",
    "                count[node] += count[child]\n",
    "                ans[node] += ans[child] + count[child]\n",
    "\n",
    "    def dfs2(node, parent):\n",
    "        for child in graph[node]:\n",
    "            if child != parent:\n",
    "                ans[child] = ans[node] - count[child] + (N - count[child])\n",
    "                dfs2(child, node)\n",
    "\n",
    "    dfs(1, -1)\n",
    "    dfs2(1, -1)\n",
    "    return ans\n",
    "\n",
    "# Example usage:\n",
    "N = 7\n",
    "edges = [[1, 0], [1, 2], [1, 6], [2, 3], [2, 4], [2, 5]]\n",
    "print(sumOfDistancesInTree(N, edges))\n"
   ]
  },
  {
   "cell_type": "markdown",
   "metadata": {},
   "source": [
    "# 25. Cherry pickup"
   ]
  },
  {
   "cell_type": "code",
   "execution_count": 4,
   "metadata": {},
   "outputs": [
    {
     "name": "stdout",
     "output_type": "stream",
     "text": [
      "Maximum number of cherries collected: 5\n"
     ]
    }
   ],
   "source": [
    "def cherry_pickup(grid):\n",
    "    n = len(grid)\n",
    "    dp = [[[-float('inf')] * n for _ in range(n)] for _ in range(2 * n - 1)]\n",
    "    dp[0][0][0] = grid[0][0]\n",
    "\n",
    "    for steps in range(1, 2 * n - 1):\n",
    "        for i in range(min(n, steps + 1)):\n",
    "            for j in range(min(n, steps + 1)):\n",
    "                if i >= n or j >= n or steps - i >= n or steps - j >= n or grid[i][steps - i] == -1 or grid[j][steps - j] == -1:\n",
    "                    continue\n",
    "                cherries = grid[i][steps - i] + (grid[j][steps - j] if i != j else 0)\n",
    "                for pi in range(max(0, i - 1), i + 1):\n",
    "                    for pj in range(max(0, j - 1), j + 1):\n",
    "                        dp[steps][i][j] = max(dp[steps][i][j], dp[steps - 1][pi][pj] + cherries)\n",
    "\n",
    "    return max(0, dp[2 * n - 2][n - 1][n - 1])\n",
    "\n",
    "# Example usage:\n",
    "grid = [[0, 1, -1], [1, 0, -1], [1, 1,  1]]\n",
    "print(\"Maximum number of cherries collected:\", cherry_pickup(grid))\n"
   ]
  },
  {
   "cell_type": "markdown",
   "metadata": {},
   "source": [
    "# 26. Reaching Points"
   ]
  },
  {
   "cell_type": "code",
   "execution_count": 8,
   "metadata": {},
   "outputs": [
    {
     "name": "stdout",
     "output_type": "stream",
     "text": [
      "X:3, y:4  False\n",
      "X:3, y:1  False\n",
      "X:2, y:5  False\n",
      "X:2, y:3  False\n",
      "X:2, y:1  False\n",
      "X:3, y:2  True\n",
      "X:1, y:2  True\n",
      "X:1, y:1  True\n",
      "(True, {(3, 4): False, (3, 1): False, (2, 5): False, (2, 3): False, (2, 1): False, (3, 2): True, (1, 2): True, (1, 1): True})\n"
     ]
    }
   ],
   "source": [
    "def reachingPoints(sx, sy, tx, ty):\n",
    "    memo = {}\n",
    "    def helper(x, y):\n",
    "        if (x, y) in memo:\n",
    "            return memo[(x, y)]\n",
    "        if x > tx or y > ty:\n",
    "            return False\n",
    "        if x == tx and y == ty:\n",
    "            return True\n",
    "        memo[(x, y)] = helper(x + y, y) or helper(x, x + y)\n",
    "        print(f\"X:{x}, y:{y}  {memo[(x, y)]}\")\n",
    "        return memo[(x, y)]\n",
    "    \n",
    "    return helper(sx, sy),memo\n",
    "\n",
    "# Example usage:\n",
    "sx = 1\n",
    "sy = 1\n",
    "tx = 3\n",
    "ty = 5\n",
    "print(reachingPoints(sx, sy, tx, ty))  # Output: True\n"
   ]
  },
  {
   "cell_type": "code",
   "execution_count": 12,
   "metadata": {},
   "outputs": [
    {
     "name": "stdout",
     "output_type": "stream",
     "text": [
      "sx=1 | sy=1 | tx=3 | ty=6\n",
      "sx=2 | sy=1 | tx=3 | ty=6\n",
      "sx=3 | sy=1 | tx=3 | ty=6\n",
      "sx=4 | sy=1 | tx=3 | ty=6\n",
      "false\n",
      "sx=3 | sy=4 | tx=3 | ty=6\n",
      "sx=7 | sy=4 | tx=3 | ty=6\n",
      "false\n",
      "sx=3 | sy=7 | tx=3 | ty=6\n",
      "false\n",
      "sx=2 | sy=3 | tx=3 | ty=6\n",
      "sx=5 | sy=3 | tx=3 | ty=6\n",
      "false\n",
      "sx=2 | sy=5 | tx=3 | ty=6\n",
      "sx=7 | sy=5 | tx=3 | ty=6\n",
      "false\n",
      "sx=2 | sy=7 | tx=3 | ty=6\n",
      "false\n",
      "sx=1 | sy=2 | tx=3 | ty=6\n",
      "sx=3 | sy=2 | tx=3 | ty=6\n",
      "sx=5 | sy=2 | tx=3 | ty=6\n",
      "false\n",
      "sx=3 | sy=5 | tx=3 | ty=6\n",
      "sx=8 | sy=5 | tx=3 | ty=6\n",
      "false\n",
      "sx=3 | sy=8 | tx=3 | ty=6\n",
      "false\n",
      "sx=1 | sy=3 | tx=3 | ty=6\n",
      "sx=4 | sy=3 | tx=3 | ty=6\n",
      "false\n",
      "sx=1 | sy=4 | tx=3 | ty=6\n",
      "sx=5 | sy=4 | tx=3 | ty=6\n",
      "false\n",
      "sx=1 | sy=5 | tx=3 | ty=6\n",
      "sx=6 | sy=5 | tx=3 | ty=6\n",
      "false\n",
      "sx=1 | sy=6 | tx=3 | ty=6\n",
      "sx=7 | sy=6 | tx=3 | ty=6\n",
      "false\n",
      "sx=1 | sy=7 | tx=3 | ty=6\n",
      "false\n",
      "False\n"
     ]
    }
   ],
   "source": [
    "def reachingPoints(sx, sy, tx, ty):\n",
    "    print(f\"sx={sx} | sy={sy} | tx={tx} | ty={ty}\")\n",
    "    if sx > tx or sy > ty:  # Base case: invalid starting point\n",
    "        print(\"false\")\n",
    "        return False\n",
    "    if sx == tx and sy == ty:  # Base case: reached the target point\n",
    "        return True\n",
    "    return reachingPoints(sx + sy, sy, tx, ty) or reachingPoints(sx, sx + sy, tx, ty)\n",
    "\n",
    "# Example usage:\n",
    "sx, sy, tx, ty = 1, 1, 3, 6\n",
    "print(reachingPoints(sx, sy, tx, ty))  # Output: True"
   ]
  },
  {
   "cell_type": "code",
   "execution_count": 15,
   "metadata": {},
   "outputs": [
    {
     "name": "stdout",
     "output_type": "stream",
     "text": [
      "True\n"
     ]
    }
   ],
   "source": [
    "def reachingPoints(sx, sy, tx, ty):\n",
    "    while sx < tx and sy < ty:\n",
    "        tx, ty = tx % ty, ty % tx\n",
    "    return sx == tx and sy <= ty and (ty - sy) % sx == 0 or sy == ty and sx <= tx and (tx - sx) % sy == 0\n",
    "\n",
    "# Example usage:\n",
    "sx, sy, tx, ty = 1, 1, 3, 5\n",
    "print(reachingPoints(sx, sy, tx, ty))  # Output: True"
   ]
  },
  {
   "cell_type": "markdown",
   "metadata": {},
   "source": [
    "# 27. Count of Smaller Numbers After Self"
   ]
  },
  {
   "cell_type": "code",
   "execution_count": 25,
   "metadata": {},
   "outputs": [
    {
     "name": "stdout",
     "output_type": "stream",
     "text": [
      "[2, 1, 1, 0]\n"
     ]
    }
   ],
   "source": [
    "def countSmaller(nums):\n",
    "    def mergeSort(enum):\n",
    "        half = len(enum) // 2\n",
    "        if half:\n",
    "            left, right = mergeSort(enum[:half]), mergeSort(enum[half:])\n",
    "            for i in reversed(range(len(enum))):\n",
    "                if not right or left and left[-1][1] > right[-1][1]:\n",
    "                    smaller[left[-1][0]] += len(right)\n",
    "                    enum[i] = left.pop()\n",
    "                else:\n",
    "                    enum[i] = right.pop()\n",
    "        return enum\n",
    "\n",
    "    smaller = [0] * len(nums)\n",
    "    mergeSort(list(enumerate(nums)))\n",
    "    return smaller\n",
    "\n",
    "# Example usage:\n",
    "nums = [5, 2, 6, 1]\n",
    "print(countSmaller(nums))  # Output: [2, 1, 1, 0]\n"
   ]
  },
  {
   "cell_type": "markdown",
   "metadata": {},
   "source": [
    "# 28. Largest Rectangle in Histogram"
   ]
  },
  {
   "cell_type": "code",
   "execution_count": 17,
   "metadata": {},
   "outputs": [
    {
     "name": "stdout",
     "output_type": "stream",
     "text": [
      "10\n"
     ]
    }
   ],
   "source": [
    "def largestRectangleArea(heights):\n",
    "    stack = []\n",
    "    max_area = 0\n",
    "    i = 0\n",
    "    while i < len(heights):\n",
    "        if not stack or heights[i] >= heights[stack[-1]]:\n",
    "            stack.append(i)\n",
    "            i += 1\n",
    "        else:\n",
    "            top = stack.pop()\n",
    "            area = heights[top] * (i if not stack else i - stack[-1] - 1)\n",
    "            max_area = max(max_area, area)\n",
    "    while stack:\n",
    "        top = stack.pop()\n",
    "        area = heights[top] * (i if not stack else i - stack[-1] - 1)\n",
    "        max_area = max(max_area, area)\n",
    "    return max_area\n",
    "\n",
    "# Example usage:\n",
    "heights = [2, 1, 5, 6, 2, 3]\n",
    "print(largestRectangleArea(heights))  # Output should be 10\n"
   ]
  },
  {
   "cell_type": "markdown",
   "metadata": {},
   "source": [
    "# 29. Self Crossing"
   ]
  },
  {
   "cell_type": "code",
   "execution_count": 18,
   "metadata": {},
   "outputs": [
    {
     "name": "stdout",
     "output_type": "stream",
     "text": [
      "True\n"
     ]
    }
   ],
   "source": [
    "def isSelfCrossing(x):\n",
    "    for i in range(3, len(x)):\n",
    "        if x[i] >= x[i - 2] and x[i - 1] <= x[i - 3]:\n",
    "            return True\n",
    "        if i >= 4 and x[i - 1] == x[i - 3] and x[i] + x[i - 4] >= x[i - 2]:\n",
    "            return True\n",
    "        if i >= 5 and x[i - 2] >= x[i - 4] and x[i] + x[i - 4] >= x[i - 2] and x[i - 1] <= x[i - 3] and x[i - 1] + x[i - 5] >= x[i - 3]:\n",
    "            return True\n",
    "    return False\n",
    "\n",
    "# Example usage:\n",
    "x = [2,1,1,2]\n",
    "print(isSelfCrossing(x)) # Output: True\n"
   ]
  },
  {
   "cell_type": "markdown",
   "metadata": {},
   "source": [
    "# 30. Perfect Rectangle"
   ]
  },
  {
   "cell_type": "code",
   "execution_count": 27,
   "metadata": {},
   "outputs": [
    {
     "data": {
      "text/plain": [
       "True"
      ]
     },
     "execution_count": 27,
     "metadata": {},
     "output_type": "execute_result"
    }
   ],
   "source": [
    "def isRectangleCover(rectangles):\n",
    "    corners = set()\n",
    "    area = 0\n",
    "    for rect in rectangles:\n",
    "        bottom_left = (rect[0], rect[1])\n",
    "        bottom_right = (rect[2], rect[1])\n",
    "        top_left = (rect[0], rect[3])\n",
    "        top_right = (rect[2], rect[3])\n",
    "        \n",
    "        area += (rect[2] - rect[0]) * (rect[3] - rect[1])\n",
    "        \n",
    "        for corner in [bottom_left, bottom_right, top_left, top_right]:\n",
    "            if corner in corners:\n",
    "                corners.remove(corner)\n",
    "            else:\n",
    "                corners.add(corner)\n",
    "                \n",
    "    if len(corners) != 4:\n",
    "        return False\n",
    "    \n",
    "    corners = sorted(corners)\n",
    "    \n",
    "    bottom_left = corners[0]\n",
    "    top_right = corners[-1]\n",
    "    \n",
    "    perfect_area = (top_right[0] - bottom_left[0]) * (top_right[1] - bottom_left[1])\n",
    "    \n",
    "    return area == perfect_area\n",
    "\n",
    "rectangles = [[1,1,3,3],[3,1,4,2],[3,2,4,4],[1,3,2,4],[2,3,3,4]]\n",
    "isRectangleCover(rectangles)"
   ]
  },
  {
   "cell_type": "markdown",
   "metadata": {},
   "source": [
    "# 31. Super Washing Machine"
   ]
  },
  {
   "cell_type": "code",
   "execution_count": 28,
   "metadata": {},
   "outputs": [
    {
     "name": "stdout",
     "output_type": "stream",
     "text": [
      "Clothes: 5\n",
      "Diff: 0\n",
      "Result: 0\n",
      "Moves: 0\n",
      "----\n",
      "Clothes: 10\n",
      "Diff: 5\n",
      "Result: 5\n",
      "Moves: 5\n",
      "----\n",
      "Clothes: 6\n",
      "Diff: 1\n",
      "Result: 5\n",
      "Moves: 5\n",
      "----\n",
      "Clothes: 3\n",
      "Diff: -2\n",
      "Result: 5\n",
      "Moves: 5\n",
      "----\n",
      "Clothes: 1\n",
      "Diff: -4\n",
      "Result: 5\n",
      "Moves: 5\n",
      "----\n",
      "Minimum number of moves required to balance the load: 5\n"
     ]
    }
   ],
   "source": [
    "def find_min_moves(machines):\n",
    "    total = sum(machines)\n",
    "    if total % len(machines) != 0:\n",
    "        return -1  # If the total number of clothes is not divisible by the number of machines, it's impossible to balance them.\n",
    "    \n",
    "    target = total // len(machines)\n",
    "    moves, result = 0, 0\n",
    "    for clothes in machines:\n",
    "        diff = clothes - target\n",
    "        result = max(result, diff)\n",
    "        moves = max(moves, abs(result), diff)\n",
    "        print(\"Clothes:\", clothes)\n",
    "        print(\"Diff:\", diff)\n",
    "        print(\"Result:\", result)\n",
    "        print(\"Moves:\", moves)\n",
    "        print(\"----\")\n",
    "    return moves\n",
    "\n",
    "machines = [5, 10, 6, 3, 1]\n",
    "print(\"Minimum number of moves required to balance the load:\", find_min_moves(machines))\n"
   ]
  },
  {
   "cell_type": "markdown",
   "metadata": {},
   "source": [
    "# 32. Remove Boxes"
   ]
  },
  {
   "cell_type": "code",
   "execution_count": 29,
   "metadata": {},
   "outputs": [
    {
     "name": "stdout",
     "output_type": "stream",
     "text": [
      "Maximum points earned: 13\n"
     ]
    }
   ],
   "source": [
    "def remove_boxes(boxes):\n",
    "    n = len(boxes)\n",
    "    # Define a three-dimensional DP array to store the maximum points for each subproblem\n",
    "    dp = [[[0] * n for _ in range(n)] for _ in range(n)]\n",
    "    \n",
    "    # Define a recursive function to calculate the maximum points for a subarray [i:j] with k boxes of the same color as box[j] removed together\n",
    "    def calculate_points(i, j, k):\n",
    "        if i > j:\n",
    "            return 0\n",
    "        if dp[i][j][k] != 0:\n",
    "            return dp[i][j][k]\n",
    "        \n",
    "        # Handle the case where boxes[i] is removed independently from the rest\n",
    "        points = (k + 1) ** 2 + calculate_points(i + 1, j, 0)\n",
    "        \n",
    "        # Iterate over boxes between i and j to find contiguous groups of the same color\n",
    "        for m in range(i + 1, j + 1):\n",
    "            if boxes[m] == boxes[i]:\n",
    "                # Calculate the points earned by removing boxes[i+1:m] together with boxes[i]\n",
    "                points = max(points, calculate_points(i + 1, m - 1, 0) + calculate_points(m, j, k + 1))\n",
    "        \n",
    "        dp[i][j][k] = points\n",
    "        return points\n",
    "    \n",
    "    # Call the recursive function to compute the maximum points for the entire array\n",
    "    return calculate_points(0, n - 1, 0)\n",
    "\n",
    "# Example usage:\n",
    "boxes = [1, 1, 5, 5, 1]\n",
    "print(\"Maximum points earned:\", remove_boxes(boxes))\n"
   ]
  }
 ],
 "metadata": {
  "kernelspec": {
   "display_name": "YPAI-07-GPU",
   "language": "python",
   "name": "python3"
  },
  "language_info": {
   "codemirror_mode": {
    "name": "ipython",
    "version": 3
   },
   "file_extension": ".py",
   "mimetype": "text/x-python",
   "name": "python",
   "nbconvert_exporter": "python",
   "pygments_lexer": "ipython3",
   "version": "3.10.13"
  }
 },
 "nbformat": 4,
 "nbformat_minor": 2
}
